{
  "nbformat": 4,
  "nbformat_minor": 0,
  "metadata": {
    "colab": {
      "name": "490 project.ipynb",
      "provenance": [],
      "collapsed_sections": [],
      "mount_file_id": "1kI5I_QdnbQsn6LYWcq83tcWC4ptZB8cG",
      "authorship_tag": "ABX9TyMRkKdVsYqDg510WqJwpEbS",
      "include_colab_link": true
    },
    "kernelspec": {
      "name": "python3",
      "display_name": "Python 3"
    }
  },
  "cells": [
    {
      "cell_type": "markdown",
      "metadata": {
        "id": "view-in-github",
        "colab_type": "text"
      },
      "source": [
        "<a href=\"https://colab.research.google.com/github/anthonyka/LebanesePoundForecast/blob/main/Model.ipynb\" target=\"_parent\"><img src=\"https://colab.research.google.com/assets/colab-badge.svg\" alt=\"Open In Colab\"/></a>"
      ]
    },
    {
      "cell_type": "markdown",
      "metadata": {
        "id": "givDY5uSX7vP"
      },
      "source": [
        "Kindly find the link for the database here: https://drive.google.com/file/d/1QdvyOmDmC3m_muG2ZHd5XtCseBT9ch-5/view?usp=sharing\n"
      ]
    },
    {
      "cell_type": "code",
      "metadata": {
        "id": "ud5jvekWP52s",
        "colab": {
          "base_uri": "https://localhost:8080/"
        },
        "outputId": "a984cc85-0cbd-45d0-8fca-633169b3f251"
      },
      "source": [
        "import pandas as pd\n",
        "import numpy as np\n",
        "from statsmodels.tsa.stattools import adfuller\n",
        "from matplotlib import pyplot as plt\n",
        "from statsmodels.tsa.seasonal import seasonal_decompose\n",
        "from statsmodels.graphics.tsaplots import plot_acf, plot_pacf\n",
        "import warnings\n",
        "from pandas import read_csv\n",
        "from pandas import datetime\n",
        "from statsmodels.tsa.arima_model import ARIMA\n",
        "from sklearn.metrics import mean_squared_error\n",
        "\n",
        "series = pd.read_csv('/content/drive/MyDrive/Lebanese Lira_test3.csv', header=0, parse_dates=[0], index_col=0, squeeze=True,infer_datetime_format=True)\n",
        "X = series.values\n",
        "series.head()"
      ],
      "execution_count": null,
      "outputs": [
        {
          "output_type": "stream",
          "text": [
            "/usr/local/lib/python3.6/dist-packages/statsmodels/tools/_testing.py:19: FutureWarning: pandas.util.testing is deprecated. Use the functions in the public API at pandas.testing instead.\n",
            "  import pandas.util.testing as tm\n"
          ],
          "name": "stderr"
        },
        {
          "output_type": "execute_result",
          "data": {
            "text/plain": [
              "Timestamp\n",
              "2019-09-01    1500.0\n",
              "2019-09-02    1510.0\n",
              "2019-09-03    1520.0\n",
              "2019-09-04    1520.0\n",
              "2019-09-05    1540.0\n",
              "Name: Average, dtype: float64"
            ]
          },
          "metadata": {
            "tags": []
          },
          "execution_count": 1
        }
      ]
    },
    {
      "cell_type": "code",
      "metadata": {
        "id": "WN-POv5HQ8UK",
        "colab": {
          "base_uri": "https://localhost:8080/",
          "height": 285
        },
        "outputId": "4b4551f2-6190-474f-d98a-9325183d623c"
      },
      "source": [
        "# Plot avrage lira rate for the given dataset per day\n",
        "plt.plot(series)\n",
        "\n",
        "# Compute and print ADF p-value\n",
        "result = adfuller(series)\n",
        "print(\"The p-value for the ADF test is \", result[1])"
      ],
      "execution_count": null,
      "outputs": [
        {
          "output_type": "stream",
          "text": [
            "The p-value for the ADF test is  0.634331922710838\n"
          ],
          "name": "stdout"
        },
        {
          "output_type": "display_data",
          "data": {
            "image/png": "[encoded data removed]",
            "text/plain": [
              "<Figure size 432x288 with 1 Axes>"
            ]
          },
          "metadata": {
            "tags": [],
            "needs_background": "light"
          }
        }
      ]
    },
    {
      "cell_type": "markdown",
      "metadata": {
        "id": "tdxzG-wsYYD7"
      },
      "source": [
        "\n",
        "Notice how the ADF test shows that the series isn't stationary -this was discussed in greater details in Milestone 3-\n",
        "\n",
        "In what follows we will be manually and then automatically tuning our ARIMA model which has been chosen for the time series forecasting"
      ]
    },
    {
      "cell_type": "code",
      "metadata": {
        "id": "H57Bh55ZTJaz",
        "colab": {
          "base_uri": "https://localhost:8080/",
          "height": 281
        },
        "outputId": "fc982eb0-0a7e-42d9-a7d8-e2da01e5e285"
      },
      "source": [
        "# Take first difference of the Lira Series\n",
        "dif = series\n",
        "#notice that without differencing, the PACF is only significant at lag=2, so the AR should be of order 2 (not taking into \n",
        "#consideration differencing)\n",
        "#but also note at ACF has high values for more than 10 lags, so differencing of at least order 1 is needed\n",
        "chg_price = dif.diff()\n",
        "chg_price = chg_price.dropna()\n",
        "\n",
        "\n",
        "# Plot the ACF and PACF on the same page\n",
        "fig, axes = plt.subplots(2,1)\n",
        "\n",
        "# Plot the ACF\n",
        "plot_acf(chg_price, lags=20, ax=axes[0])\n",
        "\n",
        "# Plot the PACF\n",
        "plot_pacf(chg_price, lags=20, ax=axes[1])\n",
        "plt.show()"
      ],
      "execution_count": null,
      "outputs": [
        {
          "output_type": "display_data",
          "data": {
            "image/png": "[encoded data removed]",
            "text/plain": [
              "<Figure size 432x288 with 2 Axes>"
            ]
          },
          "metadata": {
            "tags": [],
            "needs_background": "light"
          }
        }
      ]
    },
    {
      "cell_type": "markdown",
      "metadata": {
        "id": "VaEsEhjuZNgX"
      },
      "source": [
        "From the above, manual tuning gives us that ARIMA(1,1,0) is the best model."
      ]
    },
    {
      "cell_type": "code",
      "metadata": {
        "id": "VMPezHXS5KFA"
      },
      "source": [
        "import random\n",
        "import time\n",
        "def evaluate_arima_model(X, arima_order):\n",
        "\t# prepare training dataset\n",
        "\ttrain_size = int(len(X) * 0.7)\n",
        "\ttrain, test = X[0:train_size], X[train_size:]\n",
        "\thistory = [x for x in train]\n",
        "\t# make predictions\n",
        "\tpredictions = list()\n",
        "\tfor t in range(len(test)):\n",
        "\t\tmodel = ARIMA(history, order=arima_order)\n",
        "\t\tmodel_fit = model.fit(disp=0)\n",
        "\t\tyhat = model_fit.forecast()[0]\n",
        "\t\tpredictions.append(yhat)\n",
        "\t\thistory.append(test[t])\n",
        "\t# calculate out of sample error\n",
        "\terror = mean_squared_error(test, predictions,squared=False)\n",
        "\treturn error\n",
        "\n",
        "def evaluate_arima_model_timeframe(X, arima_order,timeframe):\n",
        "\t# prepare training dataset\n",
        "\trandom.seed(time.time())\n",
        "\tS_point = random.randint(250,len(X)-7)\n",
        "\ttrain, test = X[0:S_point], X[S_point:S_point+timeframe]\n",
        "\thistory = [x for x in train]\n",
        "\t# make predictions\n",
        "\tpredictions = list()\n",
        "\tfor t in range(len(test)):\n",
        "\t\tmodel = ARIMA(history, order=arima_order)\n",
        "\t\tmodel_fit = model.fit(disp=0)\n",
        "\t\tyhat = model_fit.forecast()[0]\n",
        "\t\tpredictions.append(yhat)\n",
        "\t\thistory.append(yhat[0]) #the idea is that we are making one step predictions but using the predicted value in the the next prediction's training set\n",
        "\t# calculate out of sample error\n",
        "\terror = mean_squared_error(test, predictions,squared=False)\n",
        "\treturn error"
      ],
      "execution_count": null,
      "outputs": []
    },
    {
      "cell_type": "code",
      "metadata": {
        "id": "2csPrhPX5VP1"
      },
      "source": [
        "# evaluate combinations of p, d and q values for an ARIMA model\n",
        "def evaluate_models(dataset, p_values, d_values, q_values):\n",
        "\tdataset = dataset.astype('float32')\n",
        "\tbest_score, best_cfg = float(\"inf\"), None\n",
        "\tfor p in p_values:\n",
        "\t\tfor d in d_values:\n",
        "\t\t\tfor q in q_values:\n",
        "\t\t\t\torder = (p,d,q)\n",
        "\t\t\t\ttry:\n",
        "\t\t\t\t\trmse = evaluate_arima_model(dataset, order)\n",
        "\t\t\t\t\tif rmse < best_score:\n",
        "\t\t\t\t\t\tbest_score, best_cfg = rmse, order\n",
        "\t\t\t\t\tprint('ARIMA%s RMSE=%.3f' % (order,rmse))\n",
        "\t\t\t\texcept:\n",
        "\t\t\t\t\tcontinue\n",
        "\tprint('Best ARIMA%s RMSE=%.3f' % (best_cfg, best_score))"
      ],
      "execution_count": null,
      "outputs": []
    },
    {
      "cell_type": "code",
      "metadata": {
        "colab": {
          "base_uri": "https://localhost:8080/"
        },
        "id": "ZZLv_RrQ8bSk",
        "outputId": "c75a78e3-aa7e-44ca-b59a-5e536d33add4"
      },
      "source": [
        "#automatic tuning (with our own code, without using auto_arima())\n",
        "p_values = [0, 1, 2, 4]\n",
        "d_values = range(0, 3)\n",
        "q_values = range(0, 3)\n",
        "warnings.filterwarnings(\"ignore\")\n",
        "evaluate_models(X, p_values, d_values, q_values)"
      ],
      "execution_count": null,
      "outputs": [
        {
          "output_type": "stream",
          "text": [
            "ARIMA(0, 0, 0) RMSE=4460.195\n",
            "ARIMA(0, 0, 1) RMSE=2356.382\n",
            "ARIMA(0, 1, 0) RMSE=251.543\n",
            "ARIMA(0, 1, 1) RMSE=250.819\n",
            "ARIMA(0, 1, 2) RMSE=249.167\n",
            "ARIMA(0, 2, 0) RMSE=326.935\n",
            "ARIMA(0, 2, 1) RMSE=255.109\n",
            "ARIMA(0, 2, 2) RMSE=260.987\n",
            "ARIMA(1, 0, 0) RMSE=251.642\n",
            "ARIMA(1, 1, 0) RMSE=251.538\n",
            "ARIMA(1, 1, 1) RMSE=252.933\n",
            "ARIMA(1, 2, 0) RMSE=279.692\n",
            "ARIMA(1, 2, 1) RMSE=281.723\n",
            "ARIMA(1, 2, 2) RMSE=263.930\n",
            "ARIMA(2, 0, 0) RMSE=251.009\n",
            "ARIMA(2, 1, 0) RMSE=249.632\n",
            "ARIMA(2, 1, 1) RMSE=244.110\n",
            "ARIMA(2, 2, 0) RMSE=286.187\n",
            "ARIMA(2, 2, 1) RMSE=259.487\n",
            "ARIMA(4, 0, 0) RMSE=250.206\n",
            "ARIMA(4, 1, 0) RMSE=244.581\n",
            "ARIMA(4, 1, 1) RMSE=244.087\n",
            "ARIMA(4, 2, 0) RMSE=256.925\n",
            "ARIMA(4, 2, 1) RMSE=252.059\n",
            "Best ARIMA(4, 1, 1) RMSE=244.087\n"
          ],
          "name": "stdout"
        }
      ]
    },
    {
      "cell_type": "markdown",
      "metadata": {
        "id": "jSctBCoJZY9z"
      },
      "source": [
        "It is clear that the best parameters are (0,1,0), (0,1,1), (0,1,2), (1,1,0), (2,1,1) and (4,1,1).\n",
        "\n",
        "Now let's compare these models using AIC"
      ]
    },
    {
      "cell_type": "code",
      "metadata": {
        "id": "hH6IwE76I0R5"
      },
      "source": [
        "\n",
        "from statsmodels.tsa.arima_model import ARMAResults \n",
        "model1 = ARIMA(X,order=(0,1,0))\n",
        "res1 = model1.fit()\n",
        "print(ARMAResults.summary(res1))\n",
        "model2 = ARIMA(X,order=(0,1,1))\n",
        "res2 = model2.fit()\n",
        "print(ARMAResults.summary(res2))\n",
        "model3 = ARIMA(X,order=(0,1,2))\n",
        "res3 = model3.fit()\n",
        "print(ARMAResults.summary(res3))\n",
        "model4 = ARIMA(X,order=(1,1,0))\n",
        "res4 = model4.fit()\n",
        "print(ARMAResults.summary(res4))\n",
        "model5 = ARIMA(X,order=(2,1,1))\n",
        "res5 = model5.fit()\n",
        "print(ARMAResults.summary(res5))\n",
        "model6 = ARIMA(X,order=(4,1,1))\n",
        "res6 = model6.fit()\n",
        "print(ARMAResults.summary(res6))\n",
        "\n"
      ],
      "execution_count": null,
      "outputs": []
    },
    {
      "cell_type": "markdown",
      "metadata": {
        "id": "bc2cB7BYasOf"
      },
      "source": [
        "By comparing the Akaike Information Criterion, we find that the best model is ARIMA(4,1,1).\n",
        "\n",
        "Note that we also tried to use the automated arima tuning parameter but results weren't as conclusive and sometimes did not pick optimal parameters.\n",
        "\n",
        "Now we will be comparing the performance using RMSE of the 1 day, 3 day and 7 days forecasts"
      ]
    },
    {
      "cell_type": "code",
      "metadata": {
        "colab": {
          "base_uri": "https://localhost:8080/"
        },
        "id": "lO3bFqcqjzhH",
        "outputId": "4af9128b-df5c-429b-8a69-e42a3f851b76"
      },
      "source": [
        "#comparing 1 - 3 and 7 day forecasts by picking a random sample of 100 predictions from the range(250,end) of the lebanese lira series.\n",
        "#we chose this particular range as values in the beginning of the year behaved really differently which would not reflect the model's results accurately\n",
        "import statistics\n",
        "\n",
        "print(\"1 day forecast error: \")\n",
        "timeframe = 1;\n",
        "error_1 = []\n",
        "for i in range(100):\n",
        "  error_1.append(evaluate_arima_model_timeframe(X, (4,1,1),timeframe))\n",
        "med_error_1 = statistics.median(error_1)\n",
        "print(med_error_1)\n",
        "\n",
        "print(\"3 day forecast error: \")\n",
        "timeframe = 3;\n",
        "error_3 = []\n",
        "for i in range(100):\n",
        "  error_3.append(evaluate_arima_model_timeframe(X, (4,1,1),timeframe))\n",
        "med_error_3 = statistics.median(error_3)\n",
        "print(med_error_3) \n",
        "\n",
        "print(\"7 day forecast error: \")\n",
        "timeframe = 7;\n",
        "error_7 = []\n",
        "for i in range(100):\n",
        "  error_7.append(evaluate_arima_model_timeframe(X, (4,1,1),timeframe))\n",
        "med_error_7 = statistics.median(error_7)\n",
        "print(med_error_7)\n",
        "\n",
        "#note: given that there is a lot of variability in the data, we use the median as a measure instead of the mean."
      ],
      "execution_count": null,
      "outputs": [
        {
          "output_type": "stream",
          "text": [
            "1 day forecast error: \n",
            "86.12516079068791\n",
            "3 day forecast error: \n",
            "147.26949878585214\n",
            "7 day forecast error: \n",
            "336.5733161598393\n"
          ],
          "name": "stdout"
        }
      ]
    },
    {
      "cell_type": "markdown",
      "metadata": {
        "id": "Wv-ZqRsGXiG5"
      },
      "source": [
        "Above was the testing side, below is the user-facing side"
      ]
    },
    {
      "cell_type": "code",
      "metadata": {
        "id": "IAXuDI0dXfpc"
      },
      "source": [
        "def Lira_predict(timeframe):\n",
        "  model = ARIMA(series,(4,1,1))\n",
        "  model_fit = model.fit()\n",
        "  pred = model_fit.forecast(steps=timeframe)[0]\n",
        "  for i in range(timeframe):\n",
        "    print(\"Day {} forecast: {} LBP \\n\".format(i+1, int(pred[i])))\n",
        "  model_fit.plot_predict(start=len(X)+timeframe-42, end=len(X)+timeframe ) #plot 6 weeks back\n",
        "  plt.show()"
      ],
      "execution_count": null,
      "outputs": []
    },
    {
      "cell_type": "markdown",
      "metadata": {
        "id": "73d09zjgcu2u"
      },
      "source": [
        "Prediction options:\n",
        "\n",
        "\n",
        "1.   1 Day (Highly encouraged -higher accuracy)\n",
        "2.   3 Days\n",
        "3.   7 days\n",
        "\n",
        "Note that you can input any number but these are the recommended options.\n",
        "\n",
        "input example: 3\n",
        "\n",
        "\n"
      ]
    },
    {
      "cell_type": "code",
      "metadata": {
        "colab": {
          "base_uri": "https://localhost:8080/",
          "height": 564
        },
        "id": "wlGbHfQgxGnm",
        "outputId": "ef6f6f4d-34f8-4c07-ed85-6ae9c9165c4e"
      },
      "source": [
        "timeframe = input(\"timeframe:\")\n",
        "Lira_predict(int(timeframe))"
      ],
      "execution_count": null,
      "outputs": [
        {
          "output_type": "stream",
          "text": [
            "timeframe:7\n",
            "Day 1 forecast: 6768 LBP \n",
            "\n",
            "Day 2 forecast: 6689 LBP \n",
            "\n",
            "Day 3 forecast: 6726 LBP \n",
            "\n",
            "Day 4 forecast: 6671 LBP \n",
            "\n",
            "Day 5 forecast: 6607 LBP \n",
            "\n",
            "Day 6 forecast: 6521 LBP \n",
            "\n",
            "Day 7 forecast: 6487 LBP \n",
            "\n"
          ],
          "name": "stdout"
        },
        {
          "output_type": "display_data",
          "data": {
            "image/png": "[encoded data removed]",
            "text/plain": [
              "<Figure size 432x288 with 1 Axes>"
            ]
          },
          "metadata": {
            "tags": [],
            "needs_background": "light"
          }
        }
      ]
    }
  ]
}